{
 "cells": [
  {
   "cell_type": "code",
   "execution_count": 1,
   "metadata": {},
   "outputs": [],
   "source": [
    "import pandas as pd\n",
    "\n",
    "import matplotlib.pyplot as plt\n",
    "import pandas as pd\n",
    "import numpy as np\n",
    "import requests\n",
    "import gmaps\n",
    "import os\n",
    "import json\n",
    "from scipy.stats import linregress"
   ]
  },
  {
   "cell_type": "code",
   "execution_count": 2,
   "metadata": {},
   "outputs": [],
   "source": [
    "df = pd.read_csv(\"PGA_Data_Historical.csv\")"
   ]
  },
  {
   "cell_type": "code",
   "execution_count": 3,
   "metadata": {},
   "outputs": [
    {
     "data": {
      "text/html": [
       "<div>\n",
       "<style scoped>\n",
       "    .dataframe tbody tr th:only-of-type {\n",
       "        vertical-align: middle;\n",
       "    }\n",
       "\n",
       "    .dataframe tbody tr th {\n",
       "        vertical-align: top;\n",
       "    }\n",
       "\n",
       "    .dataframe thead th {\n",
       "        text-align: right;\n",
       "    }\n",
       "</style>\n",
       "<table border=\"1\" class=\"dataframe\">\n",
       "  <thead>\n",
       "    <tr style=\"text-align: right;\">\n",
       "      <th></th>\n",
       "      <th>Player Name</th>\n",
       "      <th>Season</th>\n",
       "      <th>Statistic</th>\n",
       "      <th>Variable</th>\n",
       "      <th>Value</th>\n",
       "    </tr>\n",
       "  </thead>\n",
       "  <tbody>\n",
       "    <tr>\n",
       "      <th>0</th>\n",
       "      <td>Robert Garrigus</td>\n",
       "      <td>2010</td>\n",
       "      <td>Driving Distance</td>\n",
       "      <td>Driving Distance - (ROUNDS)</td>\n",
       "      <td>71</td>\n",
       "    </tr>\n",
       "    <tr>\n",
       "      <th>1</th>\n",
       "      <td>Bubba Watson</td>\n",
       "      <td>2010</td>\n",
       "      <td>Driving Distance</td>\n",
       "      <td>Driving Distance - (ROUNDS)</td>\n",
       "      <td>77</td>\n",
       "    </tr>\n",
       "    <tr>\n",
       "      <th>2</th>\n",
       "      <td>Dustin Johnson</td>\n",
       "      <td>2010</td>\n",
       "      <td>Driving Distance</td>\n",
       "      <td>Driving Distance - (ROUNDS)</td>\n",
       "      <td>83</td>\n",
       "    </tr>\n",
       "    <tr>\n",
       "      <th>3</th>\n",
       "      <td>Brett Wetterich</td>\n",
       "      <td>2010</td>\n",
       "      <td>Driving Distance</td>\n",
       "      <td>Driving Distance - (ROUNDS)</td>\n",
       "      <td>54</td>\n",
       "    </tr>\n",
       "    <tr>\n",
       "      <th>4</th>\n",
       "      <td>J.B. Holmes</td>\n",
       "      <td>2010</td>\n",
       "      <td>Driving Distance</td>\n",
       "      <td>Driving Distance - (ROUNDS)</td>\n",
       "      <td>100</td>\n",
       "    </tr>\n",
       "  </tbody>\n",
       "</table>\n",
       "</div>"
      ],
      "text/plain": [
       "       Player Name  Season         Statistic                     Variable  \\\n",
       "0  Robert Garrigus    2010  Driving Distance  Driving Distance - (ROUNDS)   \n",
       "1     Bubba Watson    2010  Driving Distance  Driving Distance - (ROUNDS)   \n",
       "2   Dustin Johnson    2010  Driving Distance  Driving Distance - (ROUNDS)   \n",
       "3  Brett Wetterich    2010  Driving Distance  Driving Distance - (ROUNDS)   \n",
       "4      J.B. Holmes    2010  Driving Distance  Driving Distance - (ROUNDS)   \n",
       "\n",
       "  Value  \n",
       "0    71  \n",
       "1    77  \n",
       "2    83  \n",
       "3    54  \n",
       "4   100  "
      ]
     },
     "execution_count": 3,
     "metadata": {},
     "output_type": "execute_result"
    }
   ],
   "source": [
    "df.head()"
   ]
  },
  {
   "cell_type": "code",
   "execution_count": 4,
   "metadata": {},
   "outputs": [],
   "source": [
    "# Calculate the number of unique authors in the DataFrame\n",
    "player_count = len(df[\"Player Name\"].unique())\n",
    "\n",
    "# Calculate the earliest/latest year a book was published\n",
    "earliest_year = df[\"Season\"].min()\n",
    "latest_year = df[\"Season\"].max()"
   ]
  },
  {
   "cell_type": "code",
   "execution_count": 5,
   "metadata": {},
   "outputs": [
    {
     "data": {
      "text/html": [
       "<div>\n",
       "<style scoped>\n",
       "    .dataframe tbody tr th:only-of-type {\n",
       "        vertical-align: middle;\n",
       "    }\n",
       "\n",
       "    .dataframe tbody tr th {\n",
       "        vertical-align: top;\n",
       "    }\n",
       "\n",
       "    .dataframe thead th {\n",
       "        text-align: right;\n",
       "    }\n",
       "</style>\n",
       "<table border=\"1\" class=\"dataframe\">\n",
       "  <thead>\n",
       "    <tr style=\"text-align: right;\">\n",
       "      <th></th>\n",
       "      <th>Total Unique Players</th>\n",
       "      <th>Earliest Year</th>\n",
       "      <th>Latest Year</th>\n",
       "    </tr>\n",
       "  </thead>\n",
       "  <tbody>\n",
       "    <tr>\n",
       "      <th>0</th>\n",
       "      <td>3053</td>\n",
       "      <td>2010</td>\n",
       "      <td>2018</td>\n",
       "    </tr>\n",
       "  </tbody>\n",
       "</table>\n",
       "</div>"
      ],
      "text/plain": [
       "   Total Unique Players  Earliest Year  Latest Year\n",
       "0                  3053           2010         2018"
      ]
     },
     "execution_count": 5,
     "metadata": {},
     "output_type": "execute_result"
    }
   ],
   "source": [
    " # Place all of the data found into a summary DataFrame\n",
    "summary_table = pd.DataFrame({\"Total Unique Players\": [player_count],\n",
    "                              \"Earliest Year\": earliest_year,\n",
    "                              \"Latest Year\": latest_year})\n",
    "summary_table"
   ]
  },
  {
   "cell_type": "code",
   "execution_count": 6,
   "metadata": {},
   "outputs": [
    {
     "data": {
      "text/plain": [
       "Player Name    2740403\n",
       "Season         2740403\n",
       "Statistic      2740403\n",
       "Variable       2740403\n",
       "Value          2696905\n",
       "dtype: int64"
      ]
     },
     "execution_count": 6,
     "metadata": {},
     "output_type": "execute_result"
    }
   ],
   "source": [
    "df.count()"
   ]
  },
  {
   "cell_type": "code",
   "execution_count": 7,
   "metadata": {},
   "outputs": [
    {
     "data": {
      "text/plain": [
       "Player Name    2696905\n",
       "Season         2696905\n",
       "Statistic      2696905\n",
       "Variable       2696905\n",
       "Value          2696905\n",
       "dtype: int64"
      ]
     },
     "execution_count": 7,
     "metadata": {},
     "output_type": "execute_result"
    }
   ],
   "source": [
    "df = df.dropna()\n",
    "df.count()"
   ]
  },
  {
   "cell_type": "code",
   "execution_count": 8,
   "metadata": {},
   "outputs": [
    {
     "data": {
      "text/html": [
       "<div>\n",
       "<style scoped>\n",
       "    .dataframe tbody tr th:only-of-type {\n",
       "        vertical-align: middle;\n",
       "    }\n",
       "\n",
       "    .dataframe tbody tr th {\n",
       "        vertical-align: top;\n",
       "    }\n",
       "\n",
       "    .dataframe thead th {\n",
       "        text-align: right;\n",
       "    }\n",
       "</style>\n",
       "<table border=\"1\" class=\"dataframe\">\n",
       "  <thead>\n",
       "    <tr style=\"text-align: right;\">\n",
       "      <th></th>\n",
       "      <th>Player Name</th>\n",
       "      <th>Season</th>\n",
       "      <th>Statistic</th>\n",
       "      <th>Variable</th>\n",
       "      <th>Value</th>\n",
       "    </tr>\n",
       "  </thead>\n",
       "  <tbody>\n",
       "    <tr>\n",
       "      <th>192</th>\n",
       "      <td>Robert Garrigus</td>\n",
       "      <td>2010</td>\n",
       "      <td>Driving Distance</td>\n",
       "      <td>Driving Distance - (AVG.)</td>\n",
       "      <td>315.5</td>\n",
       "    </tr>\n",
       "    <tr>\n",
       "      <th>193</th>\n",
       "      <td>Bubba Watson</td>\n",
       "      <td>2010</td>\n",
       "      <td>Driving Distance</td>\n",
       "      <td>Driving Distance - (AVG.)</td>\n",
       "      <td>309.8</td>\n",
       "    </tr>\n",
       "    <tr>\n",
       "      <th>194</th>\n",
       "      <td>Dustin Johnson</td>\n",
       "      <td>2010</td>\n",
       "      <td>Driving Distance</td>\n",
       "      <td>Driving Distance - (AVG.)</td>\n",
       "      <td>308.5</td>\n",
       "    </tr>\n",
       "    <tr>\n",
       "      <th>195</th>\n",
       "      <td>Brett Wetterich</td>\n",
       "      <td>2010</td>\n",
       "      <td>Driving Distance</td>\n",
       "      <td>Driving Distance - (AVG.)</td>\n",
       "      <td>307.3</td>\n",
       "    </tr>\n",
       "    <tr>\n",
       "      <th>196</th>\n",
       "      <td>J.B. Holmes</td>\n",
       "      <td>2010</td>\n",
       "      <td>Driving Distance</td>\n",
       "      <td>Driving Distance - (AVG.)</td>\n",
       "      <td>307.2</td>\n",
       "    </tr>\n",
       "  </tbody>\n",
       "</table>\n",
       "</div>"
      ],
      "text/plain": [
       "         Player Name  Season         Statistic                   Variable  \\\n",
       "192  Robert Garrigus    2010  Driving Distance  Driving Distance - (AVG.)   \n",
       "193     Bubba Watson    2010  Driving Distance  Driving Distance - (AVG.)   \n",
       "194   Dustin Johnson    2010  Driving Distance  Driving Distance - (AVG.)   \n",
       "195  Brett Wetterich    2010  Driving Distance  Driving Distance - (AVG.)   \n",
       "196      J.B. Holmes    2010  Driving Distance  Driving Distance - (AVG.)   \n",
       "\n",
       "     Value  \n",
       "192  315.5  \n",
       "193  309.8  \n",
       "194  308.5  \n",
       "195  307.3  \n",
       "196  307.2  "
      ]
     },
     "execution_count": 8,
     "metadata": {},
     "output_type": "execute_result"
    }
   ],
   "source": [
    "driving_distance_player = df[df['Variable'] == 'Driving Distance - (AVG.)']\n",
    "driving_distance_player.head(5)"
   ]
  },
  {
   "cell_type": "code",
   "execution_count": 9,
   "metadata": {},
   "outputs": [],
   "source": [
    "driving_distance_player = driving_distance_player.astype({'Value':'float32'})\n"
   ]
  },
  {
   "cell_type": "code",
   "execution_count": 10,
   "metadata": {},
   "outputs": [
    {
     "data": {
      "text/html": [
       "<div>\n",
       "<style scoped>\n",
       "    .dataframe tbody tr th:only-of-type {\n",
       "        vertical-align: middle;\n",
       "    }\n",
       "\n",
       "    .dataframe tbody tr th {\n",
       "        vertical-align: top;\n",
       "    }\n",
       "\n",
       "    .dataframe thead th {\n",
       "        text-align: right;\n",
       "    }\n",
       "</style>\n",
       "<table border=\"1\" class=\"dataframe\">\n",
       "  <thead>\n",
       "    <tr style=\"text-align: right;\">\n",
       "      <th></th>\n",
       "      <th>Season</th>\n",
       "      <th>Value</th>\n",
       "    </tr>\n",
       "  </thead>\n",
       "  <tbody>\n",
       "    <tr>\n",
       "      <th>0</th>\n",
       "      <td>2010</td>\n",
       "      <td>287.513550</td>\n",
       "    </tr>\n",
       "    <tr>\n",
       "      <th>1</th>\n",
       "      <td>2011</td>\n",
       "      <td>291.089783</td>\n",
       "    </tr>\n",
       "    <tr>\n",
       "      <th>2</th>\n",
       "      <td>2012</td>\n",
       "      <td>290.053925</td>\n",
       "    </tr>\n",
       "    <tr>\n",
       "      <th>3</th>\n",
       "      <td>2013</td>\n",
       "      <td>287.921661</td>\n",
       "    </tr>\n",
       "    <tr>\n",
       "      <th>4</th>\n",
       "      <td>2014</td>\n",
       "      <td>290.016937</td>\n",
       "    </tr>\n",
       "    <tr>\n",
       "      <th>5</th>\n",
       "      <td>2015</td>\n",
       "      <td>290.301086</td>\n",
       "    </tr>\n",
       "    <tr>\n",
       "      <th>6</th>\n",
       "      <td>2016</td>\n",
       "      <td>290.898926</td>\n",
       "    </tr>\n",
       "    <tr>\n",
       "      <th>7</th>\n",
       "      <td>2017</td>\n",
       "      <td>292.570007</td>\n",
       "    </tr>\n",
       "    <tr>\n",
       "      <th>8</th>\n",
       "      <td>2018</td>\n",
       "      <td>296.636261</td>\n",
       "    </tr>\n",
       "  </tbody>\n",
       "</table>\n",
       "</div>"
      ],
      "text/plain": [
       "   Season       Value\n",
       "0    2010  287.513550\n",
       "1    2011  291.089783\n",
       "2    2012  290.053925\n",
       "3    2013  287.921661\n",
       "4    2014  290.016937\n",
       "5    2015  290.301086\n",
       "6    2016  290.898926\n",
       "7    2017  292.570007\n",
       "8    2018  296.636261"
      ]
     },
     "execution_count": 10,
     "metadata": {},
     "output_type": "execute_result"
    }
   ],
   "source": [
    "driving_distance_yr = driving_distance_player.groupby('Season', as_index=False).Value.mean()\n",
    "driving_distance_yr"
   ]
  },
  {
   "cell_type": "code",
   "execution_count": 11,
   "metadata": {},
   "outputs": [
    {
     "data": {
      "image/png": "[encoded data removed]",
      "text/plain": [
       "<Figure size 432x288 with 1 Axes>"
      ]
     },
     "metadata": {
      "needs_background": "light"
     },
     "output_type": "display_data"
    }
   ],
   "source": [
    "values = driving_distance_yr['Value']\n",
    "y_axis = driving_distance_yr['Season']\n",
    "\n",
    "plt.scatter(y_axis, values, marker = \"o\", facecolors = \"red\", edgecolors= \"black\",\n",
    "           s=50, alpha=0.75)\n",
    "plt.xlabel('Year')\n",
    "plt.ylabel('Driver Distance')\n",
    "plt.title('Driver Distance on PGA Tour 2010-2018')\n",
    "plt.savefig('driver_distance_year.png')\n",
    "plt.show()"
   ]
  },
  {
   "cell_type": "code",
   "execution_count": 12,
   "metadata": {},
   "outputs": [
    {
     "data": {
      "text/plain": [
       "290.8074035644531"
      ]
     },
     "execution_count": 12,
     "metadata": {},
     "output_type": "execute_result"
    }
   ],
   "source": [
    "driving_distance_player['Value'].mean()"
   ]
  },
  {
   "cell_type": "code",
   "execution_count": null,
   "metadata": {},
   "outputs": [],
   "source": []
  },
  {
   "cell_type": "code",
   "execution_count": 13,
   "metadata": {},
   "outputs": [
    {
     "data": {
      "text/html": [
       "<div>\n",
       "<style scoped>\n",
       "    .dataframe tbody tr th:only-of-type {\n",
       "        vertical-align: middle;\n",
       "    }\n",
       "\n",
       "    .dataframe tbody tr th {\n",
       "        vertical-align: top;\n",
       "    }\n",
       "\n",
       "    .dataframe thead th {\n",
       "        text-align: right;\n",
       "    }\n",
       "</style>\n",
       "<table border=\"1\" class=\"dataframe\">\n",
       "  <thead>\n",
       "    <tr style=\"text-align: right;\">\n",
       "      <th></th>\n",
       "      <th>Player Name</th>\n",
       "      <th>Season</th>\n",
       "      <th>Statistic</th>\n",
       "      <th>Variable</th>\n",
       "      <th>Value</th>\n",
       "    </tr>\n",
       "  </thead>\n",
       "  <tbody>\n",
       "    <tr>\n",
       "      <th>960</th>\n",
       "      <td>Omar Uresti</td>\n",
       "      <td>2010</td>\n",
       "      <td>Driving Accuracy Percentage</td>\n",
       "      <td>Driving Accuracy Percentage - (%)</td>\n",
       "      <td>76.08</td>\n",
       "    </tr>\n",
       "    <tr>\n",
       "      <th>961</th>\n",
       "      <td>Joe Durant</td>\n",
       "      <td>2010</td>\n",
       "      <td>Driving Accuracy Percentage</td>\n",
       "      <td>Driving Accuracy Percentage - (%)</td>\n",
       "      <td>75.94</td>\n",
       "    </tr>\n",
       "    <tr>\n",
       "      <th>962</th>\n",
       "      <td>Brian Gay</td>\n",
       "      <td>2010</td>\n",
       "      <td>Driving Accuracy Percentage</td>\n",
       "      <td>Driving Accuracy Percentage - (%)</td>\n",
       "      <td>74.00</td>\n",
       "    </tr>\n",
       "    <tr>\n",
       "      <th>963</th>\n",
       "      <td>Tim Clark</td>\n",
       "      <td>2010</td>\n",
       "      <td>Driving Accuracy Percentage</td>\n",
       "      <td>Driving Accuracy Percentage - (%)</td>\n",
       "      <td>73.72</td>\n",
       "    </tr>\n",
       "    <tr>\n",
       "      <th>964</th>\n",
       "      <td>Craig Bowden</td>\n",
       "      <td>2010</td>\n",
       "      <td>Driving Accuracy Percentage</td>\n",
       "      <td>Driving Accuracy Percentage - (%)</td>\n",
       "      <td>72.86</td>\n",
       "    </tr>\n",
       "  </tbody>\n",
       "</table>\n",
       "</div>"
      ],
      "text/plain": [
       "      Player Name  Season                    Statistic  \\\n",
       "960   Omar Uresti    2010  Driving Accuracy Percentage   \n",
       "961    Joe Durant    2010  Driving Accuracy Percentage   \n",
       "962     Brian Gay    2010  Driving Accuracy Percentage   \n",
       "963     Tim Clark    2010  Driving Accuracy Percentage   \n",
       "964  Craig Bowden    2010  Driving Accuracy Percentage   \n",
       "\n",
       "                              Variable  Value  \n",
       "960  Driving Accuracy Percentage - (%)  76.08  \n",
       "961  Driving Accuracy Percentage - (%)  75.94  \n",
       "962  Driving Accuracy Percentage - (%)  74.00  \n",
       "963  Driving Accuracy Percentage - (%)  73.72  \n",
       "964  Driving Accuracy Percentage - (%)  72.86  "
      ]
     },
     "execution_count": 13,
     "metadata": {},
     "output_type": "execute_result"
    }
   ],
   "source": [
    "driving_accuracy = df[df['Variable'] == 'Driving Accuracy Percentage - (%)']\n",
    "driving_accuracy.head(5)\n"
   ]
  },
  {
   "cell_type": "code",
   "execution_count": 14,
   "metadata": {},
   "outputs": [],
   "source": [
    "driving_accuracy = driving_accuracy.astype({'Value':'float32'})"
   ]
  },
  {
   "cell_type": "code",
   "execution_count": 15,
   "metadata": {},
   "outputs": [
    {
     "data": {
      "text/html": [
       "<div>\n",
       "<style scoped>\n",
       "    .dataframe tbody tr th:only-of-type {\n",
       "        vertical-align: middle;\n",
       "    }\n",
       "\n",
       "    .dataframe tbody tr th {\n",
       "        vertical-align: top;\n",
       "    }\n",
       "\n",
       "    .dataframe thead th {\n",
       "        text-align: right;\n",
       "    }\n",
       "</style>\n",
       "<table border=\"1\" class=\"dataframe\">\n",
       "  <thead>\n",
       "    <tr style=\"text-align: right;\">\n",
       "      <th></th>\n",
       "      <th>Season</th>\n",
       "      <th>Drive Accuracy (%)</th>\n",
       "    </tr>\n",
       "  </thead>\n",
       "  <tbody>\n",
       "    <tr>\n",
       "      <th>0</th>\n",
       "      <td>2010</td>\n",
       "      <td>63.366978</td>\n",
       "    </tr>\n",
       "    <tr>\n",
       "      <th>1</th>\n",
       "      <td>2011</td>\n",
       "      <td>61.787472</td>\n",
       "    </tr>\n",
       "    <tr>\n",
       "      <th>2</th>\n",
       "      <td>2012</td>\n",
       "      <td>61.029423</td>\n",
       "    </tr>\n",
       "    <tr>\n",
       "      <th>3</th>\n",
       "      <td>2013</td>\n",
       "      <td>61.292000</td>\n",
       "    </tr>\n",
       "    <tr>\n",
       "      <th>4</th>\n",
       "      <td>2014</td>\n",
       "      <td>61.550396</td>\n",
       "    </tr>\n",
       "    <tr>\n",
       "      <th>5</th>\n",
       "      <td>2015</td>\n",
       "      <td>61.865597</td>\n",
       "    </tr>\n",
       "    <tr>\n",
       "      <th>6</th>\n",
       "      <td>2016</td>\n",
       "      <td>60.226215</td>\n",
       "    </tr>\n",
       "    <tr>\n",
       "      <th>7</th>\n",
       "      <td>2017</td>\n",
       "      <td>60.327896</td>\n",
       "    </tr>\n",
       "    <tr>\n",
       "      <th>8</th>\n",
       "      <td>2018</td>\n",
       "      <td>61.488651</td>\n",
       "    </tr>\n",
       "  </tbody>\n",
       "</table>\n",
       "</div>"
      ],
      "text/plain": [
       "   Season  Drive Accuracy (%)\n",
       "0    2010           63.366978\n",
       "1    2011           61.787472\n",
       "2    2012           61.029423\n",
       "3    2013           61.292000\n",
       "4    2014           61.550396\n",
       "5    2015           61.865597\n",
       "6    2016           60.226215\n",
       "7    2017           60.327896\n",
       "8    2018           61.488651"
      ]
     },
     "execution_count": 15,
     "metadata": {},
     "output_type": "execute_result"
    }
   ],
   "source": [
    "driving_accuracy_yr = driving_accuracy.groupby('Season', as_index=False).Value.mean()\n",
    "driving_accuracy_yr = driving_accuracy_yr.rename(columns={'Value':'Drive Accuracy (%)'})\n",
    "driving_accuracy_yr"
   ]
  },
  {
   "cell_type": "code",
   "execution_count": 16,
   "metadata": {},
   "outputs": [
    {
     "data": {
      "image/png": "[encoded data removed]",
      "text/plain": [
       "<Figure size 432x288 with 1 Axes>"
      ]
     },
     "metadata": {
      "needs_background": "light"
     },
     "output_type": "display_data"
    }
   ],
   "source": [
    "values = driving_accuracy_yr['Drive Accuracy (%)']\n",
    "y_axis = driving_accuracy_yr['Season']\n",
    "\n",
    "plt.scatter(y_axis, values, marker = \"o\", facecolors = \"red\", edgecolors= \"black\",\n",
    "           s=driving_accuracy['Value'], alpha=0.75)\n",
    "plt.xlabel('Year')\n",
    "plt.ylabel('Driver Accuracy Fairways Hit')\n",
    "plt.title('Driver Accuracy on PGA Tour')\n",
    "plt.savefig('driver_accuracy_year.png')\n",
    "plt.show()"
   ]
  },
  {
   "cell_type": "code",
   "execution_count": 17,
   "metadata": {},
   "outputs": [
    {
     "data": {
      "text/html": [
       "<div>\n",
       "<style scoped>\n",
       "    .dataframe tbody tr th:only-of-type {\n",
       "        vertical-align: middle;\n",
       "    }\n",
       "\n",
       "    .dataframe tbody tr th {\n",
       "        vertical-align: top;\n",
       "    }\n",
       "\n",
       "    .dataframe thead th {\n",
       "        text-align: right;\n",
       "    }\n",
       "</style>\n",
       "<table border=\"1\" class=\"dataframe\">\n",
       "  <thead>\n",
       "    <tr style=\"text-align: right;\">\n",
       "      <th></th>\n",
       "      <th>Player Name</th>\n",
       "      <th>Season</th>\n",
       "      <th>Statistic</th>\n",
       "      <th>Variable</th>\n",
       "      <th>Value</th>\n",
       "    </tr>\n",
       "  </thead>\n",
       "  <tbody>\n",
       "    <tr>\n",
       "      <th>2688</th>\n",
       "      <td>Brandt Snedeker</td>\n",
       "      <td>2010</td>\n",
       "      <td>Putting Average</td>\n",
       "      <td>Putting Average - (AVG)</td>\n",
       "      <td>1.710</td>\n",
       "    </tr>\n",
       "    <tr>\n",
       "      <th>2689</th>\n",
       "      <td>Aaron Baddeley</td>\n",
       "      <td>2010</td>\n",
       "      <td>Putting Average</td>\n",
       "      <td>Putting Average - (AVG)</td>\n",
       "      <td>1.735</td>\n",
       "    </tr>\n",
       "    <tr>\n",
       "      <th>2690</th>\n",
       "      <td>Brian Gay</td>\n",
       "      <td>2010</td>\n",
       "      <td>Putting Average</td>\n",
       "      <td>Putting Average - (AVG)</td>\n",
       "      <td>1.735</td>\n",
       "    </tr>\n",
       "    <tr>\n",
       "      <th>2691</th>\n",
       "      <td>Carl Pettersson</td>\n",
       "      <td>2010</td>\n",
       "      <td>Putting Average</td>\n",
       "      <td>Putting Average - (AVG)</td>\n",
       "      <td>1.736</td>\n",
       "    </tr>\n",
       "    <tr>\n",
       "      <th>2692</th>\n",
       "      <td>J.P. Hayes</td>\n",
       "      <td>2010</td>\n",
       "      <td>Putting Average</td>\n",
       "      <td>Putting Average - (AVG)</td>\n",
       "      <td>1.738</td>\n",
       "    </tr>\n",
       "  </tbody>\n",
       "</table>\n",
       "</div>"
      ],
      "text/plain": [
       "          Player Name  Season        Statistic                 Variable  Value\n",
       "2688  Brandt Snedeker    2010  Putting Average  Putting Average - (AVG)  1.710\n",
       "2689   Aaron Baddeley    2010  Putting Average  Putting Average - (AVG)  1.735\n",
       "2690        Brian Gay    2010  Putting Average  Putting Average - (AVG)  1.735\n",
       "2691  Carl Pettersson    2010  Putting Average  Putting Average - (AVG)  1.736\n",
       "2692       J.P. Hayes    2010  Putting Average  Putting Average - (AVG)  1.738"
      ]
     },
     "execution_count": 17,
     "metadata": {},
     "output_type": "execute_result"
    }
   ],
   "source": [
    "putting_accuracy = df[df['Variable'] == 'Putting Average - (AVG)']\n",
    "putting_accuracy.head(5)"
   ]
  },
  {
   "cell_type": "code",
   "execution_count": 18,
   "metadata": {},
   "outputs": [],
   "source": [
    "putting_accuracy = putting_accuracy.astype({'Value':'float32'})"
   ]
  },
  {
   "cell_type": "code",
   "execution_count": 19,
   "metadata": {},
   "outputs": [
    {
     "data": {
      "text/html": [
       "<div>\n",
       "<style scoped>\n",
       "    .dataframe tbody tr th:only-of-type {\n",
       "        vertical-align: middle;\n",
       "    }\n",
       "\n",
       "    .dataframe tbody tr th {\n",
       "        vertical-align: top;\n",
       "    }\n",
       "\n",
       "    .dataframe thead th {\n",
       "        text-align: right;\n",
       "    }\n",
       "</style>\n",
       "<table border=\"1\" class=\"dataframe\">\n",
       "  <thead>\n",
       "    <tr style=\"text-align: right;\">\n",
       "      <th></th>\n",
       "      <th>Season</th>\n",
       "      <th>Value</th>\n",
       "    </tr>\n",
       "  </thead>\n",
       "  <tbody>\n",
       "    <tr>\n",
       "      <th>0</th>\n",
       "      <td>2010</td>\n",
       "      <td>1.783089</td>\n",
       "    </tr>\n",
       "    <tr>\n",
       "      <th>1</th>\n",
       "      <td>2011</td>\n",
       "      <td>1.780215</td>\n",
       "    </tr>\n",
       "    <tr>\n",
       "      <th>2</th>\n",
       "      <td>2012</td>\n",
       "      <td>1.780005</td>\n",
       "    </tr>\n",
       "    <tr>\n",
       "      <th>3</th>\n",
       "      <td>2013</td>\n",
       "      <td>1.781494</td>\n",
       "    </tr>\n",
       "    <tr>\n",
       "      <th>4</th>\n",
       "      <td>2014</td>\n",
       "      <td>1.776531</td>\n",
       "    </tr>\n",
       "    <tr>\n",
       "      <th>5</th>\n",
       "      <td>2015</td>\n",
       "      <td>1.770375</td>\n",
       "    </tr>\n",
       "    <tr>\n",
       "      <th>6</th>\n",
       "      <td>2016</td>\n",
       "      <td>1.773346</td>\n",
       "    </tr>\n",
       "    <tr>\n",
       "      <th>7</th>\n",
       "      <td>2017</td>\n",
       "      <td>1.773847</td>\n",
       "    </tr>\n",
       "    <tr>\n",
       "      <th>8</th>\n",
       "      <td>2018</td>\n",
       "      <td>1.770016</td>\n",
       "    </tr>\n",
       "  </tbody>\n",
       "</table>\n",
       "</div>"
      ],
      "text/plain": [
       "   Season     Value\n",
       "0    2010  1.783089\n",
       "1    2011  1.780215\n",
       "2    2012  1.780005\n",
       "3    2013  1.781494\n",
       "4    2014  1.776531\n",
       "5    2015  1.770375\n",
       "6    2016  1.773346\n",
       "7    2017  1.773847\n",
       "8    2018  1.770016"
      ]
     },
     "execution_count": 19,
     "metadata": {},
     "output_type": "execute_result"
    }
   ],
   "source": [
    "putting_accuracy_yr = putting_accuracy.groupby('Season', as_index=False).Value.mean()\n",
    "putting_accuracy_yr"
   ]
  },
  {
   "cell_type": "code",
   "execution_count": 20,
   "metadata": {},
   "outputs": [
    {
     "data": {
      "image/png": "[encoded data removed]",
      "text/plain": [
       "<Figure size 432x288 with 1 Axes>"
      ]
     },
     "metadata": {
      "needs_background": "light"
     },
     "output_type": "display_data"
    }
   ],
   "source": [
    "values = putting_accuracy_yr['Value']\n",
    "y_axis = putting_accuracy_yr['Season']\n",
    "\n",
    "plt.scatter(y_axis, values, marker = \"o\", facecolors = \"red\", edgecolors= \"black\",\n",
    "           s=driving_accuracy['Value'], alpha=0.75)\n",
    "plt.xlabel('Year')\n",
    "plt.ylabel('Average Putts')\n",
    "plt.title('Putting Averages on PGA Tour 2010-2018')\n",
    "plt.savefig('putting.png')\n",
    "plt.show()"
   ]
  },
  {
   "cell_type": "code",
   "execution_count": 21,
   "metadata": {},
   "outputs": [
    {
     "data": {
      "text/html": [
       "<div>\n",
       "<style scoped>\n",
       "    .dataframe tbody tr th:only-of-type {\n",
       "        vertical-align: middle;\n",
       "    }\n",
       "\n",
       "    .dataframe tbody tr th {\n",
       "        vertical-align: top;\n",
       "    }\n",
       "\n",
       "    .dataframe thead th {\n",
       "        text-align: right;\n",
       "    }\n",
       "</style>\n",
       "<table border=\"1\" class=\"dataframe\">\n",
       "  <thead>\n",
       "    <tr style=\"text-align: right;\">\n",
       "      <th></th>\n",
       "      <th>Player Name</th>\n",
       "      <th>Season</th>\n",
       "      <th>Statistic</th>\n",
       "      <th>Variable</th>\n",
       "      <th>Value</th>\n",
       "    </tr>\n",
       "  </thead>\n",
       "  <tbody>\n",
       "    <tr>\n",
       "      <th>25357</th>\n",
       "      <td>Tom Gillis</td>\n",
       "      <td>2010</td>\n",
       "      <td>Birdie Average</td>\n",
       "      <td>Birdie Average - (AVG)</td>\n",
       "      <td>4.06</td>\n",
       "    </tr>\n",
       "    <tr>\n",
       "      <th>25358</th>\n",
       "      <td>Paul Stankowski</td>\n",
       "      <td>2010</td>\n",
       "      <td>Birdie Average</td>\n",
       "      <td>Birdie Average - (AVG)</td>\n",
       "      <td>4.03</td>\n",
       "    </tr>\n",
       "    <tr>\n",
       "      <th>25359</th>\n",
       "      <td>Chris Couch</td>\n",
       "      <td>2010</td>\n",
       "      <td>Birdie Average</td>\n",
       "      <td>Birdie Average - (AVG)</td>\n",
       "      <td>4.02</td>\n",
       "    </tr>\n",
       "    <tr>\n",
       "      <th>25360</th>\n",
       "      <td>Nick Watney</td>\n",
       "      <td>2010</td>\n",
       "      <td>Birdie Average</td>\n",
       "      <td>Birdie Average - (AVG)</td>\n",
       "      <td>4.01</td>\n",
       "    </tr>\n",
       "    <tr>\n",
       "      <th>25361</th>\n",
       "      <td>Matt Every</td>\n",
       "      <td>2010</td>\n",
       "      <td>Birdie Average</td>\n",
       "      <td>Birdie Average - (AVG)</td>\n",
       "      <td>4.00</td>\n",
       "    </tr>\n",
       "  </tbody>\n",
       "</table>\n",
       "</div>"
      ],
      "text/plain": [
       "           Player Name  Season       Statistic                Variable Value\n",
       "25357       Tom Gillis    2010  Birdie Average  Birdie Average - (AVG)  4.06\n",
       "25358  Paul Stankowski    2010  Birdie Average  Birdie Average - (AVG)  4.03\n",
       "25359      Chris Couch    2010  Birdie Average  Birdie Average - (AVG)  4.02\n",
       "25360      Nick Watney    2010  Birdie Average  Birdie Average - (AVG)  4.01\n",
       "25361       Matt Every    2010  Birdie Average  Birdie Average - (AVG)  4.00"
      ]
     },
     "execution_count": 21,
     "metadata": {},
     "output_type": "execute_result"
    }
   ],
   "source": [
    "birdie_avg = df[df['Variable'] == 'Birdie Average - (AVG)']\n",
    "birdie_avg.head(5)"
   ]
  },
  {
   "cell_type": "code",
   "execution_count": 22,
   "metadata": {},
   "outputs": [],
   "source": [
    "birdie_avg = birdie_avg.astype({'Value':'float32'})"
   ]
  },
  {
   "cell_type": "code",
   "execution_count": 23,
   "metadata": {},
   "outputs": [
    {
     "data": {
      "text/html": [
       "<div>\n",
       "<style scoped>\n",
       "    .dataframe tbody tr th:only-of-type {\n",
       "        vertical-align: middle;\n",
       "    }\n",
       "\n",
       "    .dataframe tbody tr th {\n",
       "        vertical-align: top;\n",
       "    }\n",
       "\n",
       "    .dataframe thead th {\n",
       "        text-align: right;\n",
       "    }\n",
       "</style>\n",
       "<table border=\"1\" class=\"dataframe\">\n",
       "  <thead>\n",
       "    <tr style=\"text-align: right;\">\n",
       "      <th></th>\n",
       "      <th>Season</th>\n",
       "      <th>Value</th>\n",
       "    </tr>\n",
       "  </thead>\n",
       "  <tbody>\n",
       "    <tr>\n",
       "      <th>0</th>\n",
       "      <td>2010</td>\n",
       "      <td>3.511042</td>\n",
       "    </tr>\n",
       "    <tr>\n",
       "      <th>1</th>\n",
       "      <td>2011</td>\n",
       "      <td>3.515484</td>\n",
       "    </tr>\n",
       "    <tr>\n",
       "      <th>2</th>\n",
       "      <td>2012</td>\n",
       "      <td>3.447173</td>\n",
       "    </tr>\n",
       "    <tr>\n",
       "      <th>3</th>\n",
       "      <td>2013</td>\n",
       "      <td>3.442945</td>\n",
       "    </tr>\n",
       "    <tr>\n",
       "      <th>4</th>\n",
       "      <td>2014</td>\n",
       "      <td>3.468192</td>\n",
       "    </tr>\n",
       "    <tr>\n",
       "      <th>5</th>\n",
       "      <td>2015</td>\n",
       "      <td>3.612935</td>\n",
       "    </tr>\n",
       "    <tr>\n",
       "      <th>6</th>\n",
       "      <td>2016</td>\n",
       "      <td>3.522541</td>\n",
       "    </tr>\n",
       "    <tr>\n",
       "      <th>7</th>\n",
       "      <td>2017</td>\n",
       "      <td>3.544684</td>\n",
       "    </tr>\n",
       "    <tr>\n",
       "      <th>8</th>\n",
       "      <td>2018</td>\n",
       "      <td>3.645285</td>\n",
       "    </tr>\n",
       "  </tbody>\n",
       "</table>\n",
       "</div>"
      ],
      "text/plain": [
       "   Season     Value\n",
       "0    2010  3.511042\n",
       "1    2011  3.515484\n",
       "2    2012  3.447173\n",
       "3    2013  3.442945\n",
       "4    2014  3.468192\n",
       "5    2015  3.612935\n",
       "6    2016  3.522541\n",
       "7    2017  3.544684\n",
       "8    2018  3.645285"
      ]
     },
     "execution_count": 23,
     "metadata": {},
     "output_type": "execute_result"
    }
   ],
   "source": [
    "birdie_avg_yr = birdie_avg.groupby('Season', as_index=False).Value.mean()\n",
    "birdie_avg_yr"
   ]
  },
  {
   "cell_type": "code",
   "execution_count": 24,
   "metadata": {},
   "outputs": [
    {
     "data": {
      "image/png": "[encoded data removed]",
      "text/plain": [
       "<Figure size 432x288 with 1 Axes>"
      ]
     },
     "metadata": {
      "needs_background": "light"
     },
     "output_type": "display_data"
    }
   ],
   "source": [
    "values = birdie_avg_yr['Value']\n",
    "y_axis = birdie_avg_yr['Season']\n",
    "\n",
    "plt.scatter(y_axis, values, marker = \"o\", facecolors = \"red\", edgecolors= \"black\",\n",
    "           s=driving_accuracy['Value'], alpha=0.75)\n",
    "plt.xlabel('Year')\n",
    "plt.ylabel('Birdie Avg Per Round')\n",
    "plt.title('Birdie Average Per Round 2010-2018')\n",
    "plt.savefig('birdie_avg.png')\n",
    "plt.show()"
   ]
  },
  {
   "cell_type": "code",
   "execution_count": 25,
   "metadata": {},
   "outputs": [
    {
     "data": {
      "text/html": [
       "<div>\n",
       "<style scoped>\n",
       "    .dataframe tbody tr th:only-of-type {\n",
       "        vertical-align: middle;\n",
       "    }\n",
       "\n",
       "    .dataframe tbody tr th {\n",
       "        vertical-align: top;\n",
       "    }\n",
       "\n",
       "    .dataframe thead th {\n",
       "        text-align: right;\n",
       "    }\n",
       "</style>\n",
       "<table border=\"1\" class=\"dataframe\">\n",
       "  <thead>\n",
       "    <tr style=\"text-align: right;\">\n",
       "      <th></th>\n",
       "      <th>Player Name</th>\n",
       "      <th>Season</th>\n",
       "      <th>Statistic</th>\n",
       "      <th>Variable</th>\n",
       "      <th>Value</th>\n",
       "    </tr>\n",
       "  </thead>\n",
       "  <tbody>\n",
       "    <tr>\n",
       "      <th>1728</th>\n",
       "      <td>John Senden</td>\n",
       "      <td>2010</td>\n",
       "      <td>Greens in Regulation Percentage</td>\n",
       "      <td>Greens in Regulation Percentage - (%)</td>\n",
       "      <td>72.49</td>\n",
       "    </tr>\n",
       "    <tr>\n",
       "      <th>1729</th>\n",
       "      <td>Kevin Sutherland</td>\n",
       "      <td>2010</td>\n",
       "      <td>Greens in Regulation Percentage</td>\n",
       "      <td>Greens in Regulation Percentage - (%)</td>\n",
       "      <td>71.96</td>\n",
       "    </tr>\n",
       "    <tr>\n",
       "      <th>1730</th>\n",
       "      <td>Joe Durant</td>\n",
       "      <td>2010</td>\n",
       "      <td>Greens in Regulation Percentage</td>\n",
       "      <td>Greens in Regulation Percentage - (%)</td>\n",
       "      <td>71.95</td>\n",
       "    </tr>\n",
       "    <tr>\n",
       "      <th>1731</th>\n",
       "      <td>Charles Warren</td>\n",
       "      <td>2010</td>\n",
       "      <td>Greens in Regulation Percentage</td>\n",
       "      <td>Greens in Regulation Percentage - (%)</td>\n",
       "      <td>71.74</td>\n",
       "    </tr>\n",
       "    <tr>\n",
       "      <th>1732</th>\n",
       "      <td>Troy Matteson</td>\n",
       "      <td>2010</td>\n",
       "      <td>Greens in Regulation Percentage</td>\n",
       "      <td>Greens in Regulation Percentage - (%)</td>\n",
       "      <td>71.43</td>\n",
       "    </tr>\n",
       "  </tbody>\n",
       "</table>\n",
       "</div>"
      ],
      "text/plain": [
       "           Player Name  Season                        Statistic  \\\n",
       "1728       John Senden    2010  Greens in Regulation Percentage   \n",
       "1729  Kevin Sutherland    2010  Greens in Regulation Percentage   \n",
       "1730        Joe Durant    2010  Greens in Regulation Percentage   \n",
       "1731    Charles Warren    2010  Greens in Regulation Percentage   \n",
       "1732     Troy Matteson    2010  Greens in Regulation Percentage   \n",
       "\n",
       "                                   Variable  Value  \n",
       "1728  Greens in Regulation Percentage - (%)  72.49  \n",
       "1729  Greens in Regulation Percentage - (%)  71.96  \n",
       "1730  Greens in Regulation Percentage - (%)  71.95  \n",
       "1731  Greens in Regulation Percentage - (%)  71.74  \n",
       "1732  Greens in Regulation Percentage - (%)  71.43  "
      ]
     },
     "execution_count": 25,
     "metadata": {},
     "output_type": "execute_result"
    }
   ],
   "source": [
    "green_regulation = df[df['Variable'] == 'Greens in Regulation Percentage - (%)']\n",
    "green_regulation.head(5)"
   ]
  },
  {
   "cell_type": "code",
   "execution_count": 26,
   "metadata": {},
   "outputs": [],
   "source": [
    "green_regulation = green_regulation.astype({'Value':'float32'})"
   ]
  },
  {
   "cell_type": "code",
   "execution_count": null,
   "metadata": {},
   "outputs": [],
   "source": []
  },
  {
   "cell_type": "code",
   "execution_count": 27,
   "metadata": {},
   "outputs": [
    {
     "data": {
      "text/html": [
       "<div>\n",
       "<style scoped>\n",
       "    .dataframe tbody tr th:only-of-type {\n",
       "        vertical-align: middle;\n",
       "    }\n",
       "\n",
       "    .dataframe tbody tr th {\n",
       "        vertical-align: top;\n",
       "    }\n",
       "\n",
       "    .dataframe thead th {\n",
       "        text-align: right;\n",
       "    }\n",
       "</style>\n",
       "<table border=\"1\" class=\"dataframe\">\n",
       "  <thead>\n",
       "    <tr style=\"text-align: right;\">\n",
       "      <th></th>\n",
       "      <th>Season</th>\n",
       "      <th>Value</th>\n",
       "    </tr>\n",
       "  </thead>\n",
       "  <tbody>\n",
       "    <tr>\n",
       "      <th>0</th>\n",
       "      <td>2010</td>\n",
       "      <td>66.908333</td>\n",
       "    </tr>\n",
       "    <tr>\n",
       "      <th>1</th>\n",
       "      <td>2011</td>\n",
       "      <td>65.520859</td>\n",
       "    </tr>\n",
       "    <tr>\n",
       "      <th>2</th>\n",
       "      <td>2012</td>\n",
       "      <td>64.883873</td>\n",
       "    </tr>\n",
       "    <tr>\n",
       "      <th>3</th>\n",
       "      <td>2013</td>\n",
       "      <td>64.991386</td>\n",
       "    </tr>\n",
       "    <tr>\n",
       "      <th>4</th>\n",
       "      <td>2014</td>\n",
       "      <td>64.975143</td>\n",
       "    </tr>\n",
       "    <tr>\n",
       "      <th>5</th>\n",
       "      <td>2015</td>\n",
       "      <td>66.291519</td>\n",
       "    </tr>\n",
       "    <tr>\n",
       "      <th>6</th>\n",
       "      <td>2016</td>\n",
       "      <td>65.556435</td>\n",
       "    </tr>\n",
       "    <tr>\n",
       "      <th>7</th>\n",
       "      <td>2017</td>\n",
       "      <td>65.350891</td>\n",
       "    </tr>\n",
       "    <tr>\n",
       "      <th>8</th>\n",
       "      <td>2018</td>\n",
       "      <td>66.388031</td>\n",
       "    </tr>\n",
       "  </tbody>\n",
       "</table>\n",
       "</div>"
      ],
      "text/plain": [
       "   Season      Value\n",
       "0    2010  66.908333\n",
       "1    2011  65.520859\n",
       "2    2012  64.883873\n",
       "3    2013  64.991386\n",
       "4    2014  64.975143\n",
       "5    2015  66.291519\n",
       "6    2016  65.556435\n",
       "7    2017  65.350891\n",
       "8    2018  66.388031"
      ]
     },
     "execution_count": 27,
     "metadata": {},
     "output_type": "execute_result"
    }
   ],
   "source": [
    "green_regulation_yr = green_regulation.groupby('Season', as_index=False).Value.mean()\n",
    "green_regulation_yr"
   ]
  },
  {
   "cell_type": "code",
   "execution_count": 28,
   "metadata": {},
   "outputs": [
    {
     "data": {
      "image/png": "[encoded data removed]",
      "text/plain": [
       "<Figure size 432x288 with 1 Axes>"
      ]
     },
     "metadata": {
      "needs_background": "light"
     },
     "output_type": "display_data"
    }
   ],
   "source": [
    "values = green_regulation_yr['Value']\n",
    "y_axis = green_regulation_yr['Season']\n",
    "\n",
    "plt.scatter(y_axis, values, marker = \"o\", facecolors = \"red\", edgecolors= \"black\",\n",
    "           s=driving_accuracy['Value'], alpha=0.75)\n",
    "plt.xlabel('Year')\n",
    "plt.ylabel('Green In Regulation %')\n",
    "plt.title('Green In Regulation Average By Year 2010-2018')\n",
    "plt.savefig('green_in_reg_year.png')\n",
    "plt.show()"
   ]
  },
  {
   "cell_type": "code",
   "execution_count": null,
   "metadata": {},
   "outputs": [],
   "source": []
  },
  {
   "cell_type": "code",
   "execution_count": 29,
   "metadata": {},
   "outputs": [],
   "source": [
    "dustin_johnson_ac = driving_accuracy.loc[driving_accuracy['Player Name'] == 'Dustin Johnson']"
   ]
  },
  {
   "cell_type": "code",
   "execution_count": 30,
   "metadata": {},
   "outputs": [],
   "source": [
    "dustin_johnson = driving_distance_player.loc[driving_distance_player['Player Name'] == 'Dustin Johnson']"
   ]
  },
  {
   "cell_type": "code",
   "execution_count": 31,
   "metadata": {},
   "outputs": [],
   "source": [
    "dustin_johnson = dustin_johnson.astype({'Value':'float32'})\n"
   ]
  },
  {
   "cell_type": "code",
   "execution_count": 32,
   "metadata": {},
   "outputs": [],
   "source": [
    "dustin = driving_distance_player.loc[driving_distance_player['Player Name'] == 'Dustin Johnson']\n",
    "dustin_acc = driving_accuracy.loc[driving_accuracy['Player Name'] == 'Dustin Johnson']"
   ]
  },
  {
   "cell_type": "code",
   "execution_count": 33,
   "metadata": {},
   "outputs": [],
   "source": [
    "rory = driving_distance_player.loc[driving_distance_player['Player Name'] == 'Rory McIlroy']\n",
    "rory_acc = driving_accuracy.loc[driving_accuracy['Player Name'] == 'Rory McIlroy']"
   ]
  },
  {
   "cell_type": "code",
   "execution_count": 34,
   "metadata": {},
   "outputs": [],
   "source": [
    "brooks = driving_distance_player.loc[driving_distance_player['Player Name'] == 'Brooks Koepka']\n",
    "brooks_acc = driving_accuracy.loc[driving_accuracy['Player Name'] == 'Brooks Koepka']"
   ]
  },
  {
   "cell_type": "code",
   "execution_count": 35,
   "metadata": {},
   "outputs": [],
   "source": [
    "thomas = driving_distance_player.loc[driving_distance_player['Player Name'] == 'Justin Thomas']\n",
    "thomas_acc = driving_accuracy.loc[driving_accuracy['Player Name'] == 'Justin Thomas']"
   ]
  },
  {
   "cell_type": "code",
   "execution_count": 36,
   "metadata": {},
   "outputs": [],
   "source": [
    "rahm = driving_distance_player.loc[driving_distance_player['Player Name'] == 'Jon Rahm']\n",
    "rahm_acc = driving_accuracy.loc[driving_accuracy['Player Name'] == 'Jon Rahm']"
   ]
  },
  {
   "cell_type": "code",
   "execution_count": 37,
   "metadata": {},
   "outputs": [],
   "source": [
    "rose = driving_distance_player.loc[driving_distance_player['Player Name'] == 'Justin Rose']\n",
    "rose_acc = driving_accuracy.loc[driving_accuracy['Player Name'] == 'Justin Rose']"
   ]
  },
  {
   "cell_type": "code",
   "execution_count": 38,
   "metadata": {},
   "outputs": [],
   "source": [
    "na = driving_distance_player.loc[driving_distance_player['Player Name'] == 'Kevin Na']\n",
    "na_acc = driving_accuracy.loc[driving_accuracy['Player Name'] == 'Kevin Na']"
   ]
  },
  {
   "cell_type": "code",
   "execution_count": 39,
   "metadata": {},
   "outputs": [
    {
     "data": {
      "text/plain": [
       "<matplotlib.collections.PathCollection at 0x22d89fab518>"
      ]
     },
     "execution_count": 39,
     "metadata": {},
     "output_type": "execute_result"
    },
    {
     "data": {
      "image/png": "[encoded data removed]",
      "text/plain": [
       "<Figure size 432x288 with 1 Axes>"
      ]
     },
     "metadata": {
      "needs_background": "light"
     },
     "output_type": "display_data"
    }
   ],
   "source": [
    "values = driving_distance_player['Value']\n",
    "y_axis = driving_distance_player['Season']\n",
    "\n",
    "plt.scatter(y_axis, values, marker = \"o\", facecolors = \"red\", edgecolors= \"black\",\n",
    "           s=driving_accuracy['Value'], alpha=0.75)"
   ]
  },
  {
   "cell_type": "code",
   "execution_count": 40,
   "metadata": {},
   "outputs": [
    {
     "data": {
      "image/png": "[encoded data removed]",
      "text/plain": [
       "<Figure size 432x288 with 1 Axes>"
      ]
     },
     "metadata": {
      "needs_background": "light"
     },
     "output_type": "display_data"
    }
   ],
   "source": [
    " # Add the linear regression equation and line to plot\n",
    "values = driving_distance_yr['Value']\n",
    "x_axis = driving_accuracy_yr['Drive Accuracy (%)']\n",
    "year = driving_distance_yr['Season']\n",
    "(slope, intercept, rvalue, pvalue, stderr) = linregress(x_axis, values)\n",
    "regress_values = values * slope + intercept\n",
    "line_eq = \"y = \" + str(round(slope,2)) + \"x + \" + str(round(intercept,2))\n",
    "plt.scatter(x_axis, values, marker = \"o\", facecolors = \"red\", edgecolors= \"black\",\n",
    "           s=driving_accuracy['Value'], alpha=0.75)\n",
    "for x,y,z in zip(x_axis, values, year):\n",
    "    label = format(z)\n",
    "    plt.annotate(label,\n",
    "                (x,y),\n",
    "                textcoords=\"offset points\",\n",
    "                xytext=(0,10),\n",
    "                ha='center')\n",
    "plt.xlabel('Fairway Hit %')\n",
    "plt.ylabel('Driver Distance')\n",
    "plt.title('Average Driver Distance vs. Fairway Hit % 2010-2018')\n",
    "plt.subplots_adjust(top=1.6)\n",
    "plt.savefig('drive_distance_fairway_by_year.png')\n",
    "plt.show()\n"
   ]
  },
  {
   "cell_type": "code",
   "execution_count": null,
   "metadata": {},
   "outputs": [],
   "source": []
  },
  {
   "cell_type": "code",
   "execution_count": 41,
   "metadata": {},
   "outputs": [
    {
     "data": {
      "image/png": "[encoded data removed]",
      "text/plain": [
       "<Figure size 432x288 with 1 Axes>"
      ]
     },
     "metadata": {
      "needs_background": "light"
     },
     "output_type": "display_data"
    }
   ],
   "source": [
    " # Add the linear regression equation and line to plot\n",
    "values = dustin['Value']\n",
    "x_axis = dustin_acc['Value']\n",
    "(slope, intercept, rvalue, pvalue, stderr) = linregress(x_axis, values)\n",
    "regress_values = values * slope + intercept\n",
    "line_eq = \"y = \" + str(round(slope,2)) + \"x + \" + str(round(intercept,2))\n",
    "plt.scatter(x_axis, values, marker = \"o\", facecolors = \"red\", edgecolors= \"black\",\n",
    "           s=driving_accuracy['Value'], alpha=0.75)\n",
    "plt.xlabel('Fairways Hit (%)')\n",
    "plt.ylabel('Driver Distance')\n",
    "plt.title('Dustin Johnson Driving Distance vs. Accuracy 2010 to 2018')\n",
    "plt.savefig('dustin_johnson_driver.png')\n",
    "plt.show()"
   ]
  },
  {
   "cell_type": "code",
   "execution_count": 42,
   "metadata": {},
   "outputs": [
    {
     "data": {
      "image/png": "[encoded data removed]",
      "text/plain": [
       "<Figure size 432x288 with 1 Axes>"
      ]
     },
     "metadata": {
      "needs_background": "light"
     },
     "output_type": "display_data"
    }
   ],
   "source": [
    " # Add the linear regression equation and line to plot\n",
    "values = na['Value']\n",
    "x_axis = na_acc['Value']\n",
    "(slope, intercept, rvalue, pvalue, stderr) = linregress(x_axis, values)\n",
    "regress_values = values * slope + intercept\n",
    "line_eq = \"y = \" + str(round(slope,2)) + \"x + \" + str(round(intercept,2))\n",
    "plt.scatter(x_axis, values, marker = \"o\", facecolors = \"red\", edgecolors= \"black\",\n",
    "           s=driving_accuracy['Value'], alpha=0.75)\n",
    "plt.xlabel('Fairways Hit (%)')\n",
    "plt.ylabel('Driver Distance')\n",
    "plt.title('Kevin Na Driving Distance vs. Accuracy 2010 to 2018')\n",
    "plt.savefig('kevin_na_driver.png')\n",
    "plt.show()"
   ]
  },
  {
   "cell_type": "code",
   "execution_count": 43,
   "metadata": {},
   "outputs": [
    {
     "data": {
      "image/png": "[encoded data removed]",
      "text/plain": [
       "<Figure size 432x288 with 1 Axes>"
      ]
     },
     "metadata": {
      "needs_background": "light"
     },
     "output_type": "display_data"
    }
   ],
   "source": [
    " # Add the linear regression equation and line to plot\n",
    "values = rose['Value']\n",
    "x_axis = rose_acc['Value']\n",
    "(slope, intercept, rvalue, pvalue, stderr) = linregress(x_axis, values)\n",
    "regress_values = values * slope + intercept\n",
    "line_eq = \"y = \" + str(round(slope,2)) + \"x + \" + str(round(intercept,2))\n",
    "plt.scatter(x_axis, values, marker = \"o\", facecolors = \"red\", edgecolors= \"black\",\n",
    "           s=driving_accuracy['Value'], alpha=0.75)\n",
    "plt.xlabel('Fairways Hit (%)')\n",
    "plt.ylabel('Driver Distance')\n",
    "plt.title('Justin Rose Driving Distance vs. Accuracy 2010 to 2018')\n",
    "plt.show()"
   ]
  },
  {
   "cell_type": "code",
   "execution_count": 44,
   "metadata": {},
   "outputs": [
    {
     "data": {
      "image/png": "[encoded data removed]",
      "text/plain": [
       "<Figure size 432x288 with 1 Axes>"
      ]
     },
     "metadata": {
      "needs_background": "light"
     },
     "output_type": "display_data"
    }
   ],
   "source": [
    " # Add the linear regression equation and line to plot\n",
    "values = rory['Value']\n",
    "x_axis = rory_acc['Value']\n",
    "(slope, intercept, rvalue, pvalue, stderr) = linregress(x_axis, values)\n",
    "regress_values = values * slope + intercept\n",
    "line_eq = \"y = \" + str(round(slope,2)) + \"x + \" + str(round(intercept,2))\n",
    "plt.scatter(x_axis, values, marker = \"o\", facecolors = \"red\", edgecolors= \"black\",\n",
    "           s=driving_accuracy['Value'], alpha=0.75)\n",
    "plt.xlabel('Fairways Hit (%)')\n",
    "plt.ylabel('Driver Distance')\n",
    "plt.title('Rory McIlroy Driving Distance vs. Accuracy 2010 to 2018')\n",
    "plt.savefig('rory_mcilroy_driver.png')\n",
    "plt.show()"
   ]
  },
  {
   "cell_type": "code",
   "execution_count": null,
   "metadata": {},
   "outputs": [],
   "source": []
  },
  {
   "cell_type": "code",
   "execution_count": null,
   "metadata": {},
   "outputs": [],
   "source": []
  },
  {
   "cell_type": "code",
   "execution_count": null,
   "metadata": {},
   "outputs": [],
   "source": []
  },
  {
   "cell_type": "code",
   "execution_count": null,
   "metadata": {},
   "outputs": [],
   "source": []
  }
 ],
 "metadata": {
  "kernelspec": {
   "display_name": "Python [conda env:PythonData] *",
   "language": "python",
   "name": "conda-env-PythonData-py"
  },
  "language_info": {
   "codemirror_mode": {
    "name": "ipython",
    "version": 3
   },
   "file_extension": ".py",
   "mimetype": "text/x-python",
   "name": "python",
   "nbconvert_exporter": "python",
   "pygments_lexer": "ipython3",
   "version": "3.6.10"
  }
 },
 "nbformat": 4,
 "nbformat_minor": 4
}
